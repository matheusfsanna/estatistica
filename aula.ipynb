{
 "cells": [
  {
   "cell_type": "code",
   "execution_count": 2,
   "id": "68859a07-edab-4a68-94e5-957ba3ec2c18",
   "metadata": {},
   "outputs": [
    {
     "name": "stdout",
     "output_type": "stream",
     "text": [
      "Cor        Indígena  Branca  Preta  Amarela  Parda\n",
      "Sexo                                              \n",
      "Masculino       256   22194   5502      235  25063\n",
      "Feminino        101    9621   2889      117  10862\n",
      "Cor           Indígena       Branca        Preta      Amarela        Parda\n",
      "Sexo                                                                      \n",
      "Masculino  1081.710938  2925.744435  1603.861687  4758.251064  1659.577425\n",
      "Feminino   2464.386139  2109.866750  1134.596400  3027.341880  1176.758516\n",
      "Sexo       Frequência  Porcentagem (%)\n",
      "Sexo                                  \n",
      "Masculino       53250        69.299844\n",
      "Feminino        23590        30.700156\n"
     ]
    }
   ],
   "source": [
    "# -*- coding: utf-8 -*-\n",
    "\"\"\"\n",
    "Created on Wed Sep 13 21:02:07 2023\n",
    "\n",
    "@author: Matheus\n",
    "\"\"\"\n",
    "\n",
    "import pandas as pd\n",
    "import numpy as np\n",
    "import seaborn \n",
    "import scipy\n",
    "\n",
    "dados = pd.read_csv(\"dados.csv\")\n",
    "\n",
    "sexo = {0: 'Masculino',\n",
    "        1: 'Feminino'}\n",
    "\n",
    "cor = {0: 'Indígena',\n",
    "        2: 'Branca',\n",
    "        4: 'Preta',\n",
    "        6: 'Amarela',\n",
    "        8: 'Parda',\n",
    "        9: 'Sem declaração'}\n",
    "\n",
    "frequencia = dados['Sexo'].value_counts()\n",
    "percentual = dados['Sexo'].value_counts(normalize = True) * 100\n",
    "\n",
    "dist_freq_qualitativas = pd.DataFrame({'Frequência': frequencia, 'Porcentagem (%)': percentual})\n",
    "dist_freq_qualitativas.rename(index={0:'Masculino', 1:'Feminino'}, inplace= True)\n",
    "dist_freq_qualitativas.rename_axis('Sexo', axis = 'columns', inplace = True)\n",
    "\n",
    "frequencia= pd.crosstab(dados.Sexo,\n",
    "                         dados.Cor)\n",
    "frequencia.rename(index = sexo, inplace = True)\n",
    "\n",
    "frequencia = pd.crosstab(dados.Sexo,\n",
    "                         dados.Cor)\n",
    "frequencia.rename(index = sexo, inplace = True)\n",
    "frequencia.rename(columns = cor, inplace = True)\n",
    "\n",
    "percentual = pd.crosstab(dados.Sexo,\n",
    "                         dados.Cor,\n",
    "                         aggfunc = 'mean',\n",
    "                         values = dados.Renda)\n",
    "percentual.rename(index = sexo, inplace = True)\n",
    "percentual.rename(columns = cor, inplace = True)\n",
    "\n",
    "\n",
    "print(frequencia)\n",
    "print(percentual)\n",
    "print(dist_freq_qualitativas)"
   ]
  },
  {
   "cell_type": "code",
   "execution_count": null,
   "id": "8dbf7b6e-81c2-4bc1-a1e2-a65f05cb41d2",
   "metadata": {},
   "outputs": [],
   "source": []
  },
  {
   "cell_type": "code",
   "execution_count": null,
   "id": "4d32a6a6-3e1a-42b0-b295-ddd6c6560f3e",
   "metadata": {},
   "outputs": [],
   "source": []
  }
 ],
 "metadata": {
  "kernelspec": {
   "display_name": "Python 3 (ipykernel)",
   "language": "python",
   "name": "python3"
  },
  "language_info": {
   "codemirror_mode": {
    "name": "ipython",
    "version": 3
   },
   "file_extension": ".py",
   "mimetype": "text/x-python",
   "name": "python",
   "nbconvert_exporter": "python",
   "pygments_lexer": "ipython3",
   "version": "3.10.8"
  }
 },
 "nbformat": 4,
 "nbformat_minor": 5
}
